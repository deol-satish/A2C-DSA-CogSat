{
 "cells": [
  {
   "cell_type": "code",
   "execution_count": 128,
   "id": "7ff44312",
   "metadata": {},
   "outputs": [],
   "source": [
    "import logging\n",
    "import json\n",
    "import numpy as np\n",
    "from datetime import datetime, timedelta"
   ]
  },
  {
   "cell_type": "code",
   "execution_count": 129,
   "id": "2c5e5104",
   "metadata": {},
   "outputs": [],
   "source": [
    "import matlab.engine\n",
    "\n",
    "# Start MATLAB\n",
    "eng = matlab.engine.start_matlab()"
   ]
  },
  {
   "cell_type": "code",
   "execution_count": 130,
   "id": "bdeeff9f",
   "metadata": {},
   "outputs": [],
   "source": [
    "# Add path if needed\n",
    "eng.addpath(r'./matlab_code', nargout=0)\n",
    "\n",
    "eng.eval(\"initialiseScenario\", nargout=0)"
   ]
  },
  {
   "cell_type": "code",
   "execution_count": 131,
   "id": "6b55081e",
   "metadata": {},
   "outputs": [
    {
     "data": {
      "text/plain": [
       "array(1.)"
      ]
     },
     "execution_count": 131,
     "metadata": {},
     "output_type": "execute_result"
    }
   ],
   "source": [
    "np.array(eng.workspace['t'])"
   ]
  },
  {
   "cell_type": "code",
   "execution_count": 132,
   "id": "0aaa5004",
   "metadata": {},
   "outputs": [],
   "source": [
    "eng.eval(\"stepScenario\", nargout=0)"
   ]
  },
  {
   "cell_type": "code",
   "execution_count": 133,
   "id": "c575e44f",
   "metadata": {},
   "outputs": [],
   "source": [
    "tIndex = 0"
   ]
  },
  {
   "cell_type": "code",
   "execution_count": 134,
   "id": "38e0f5de",
   "metadata": {},
   "outputs": [],
   "source": [
    "FreqAlloc = np.array(eng.workspace['FreqAlloc'])"
   ]
  },
  {
   "cell_type": "code",
   "execution_count": 135,
   "id": "99ed04e2",
   "metadata": {},
   "outputs": [
    {
     "data": {
      "text/plain": [
       "array([ 4.,  2., 12., 14., 10.,  8., 14., 13.,  4., 15.,  1.,  2.,  3.,\n",
       "        4.,  5.,  6.,  7.,  8.,  9., 10.])"
      ]
     },
     "execution_count": 135,
     "metadata": {},
     "output_type": "execute_result"
    }
   ],
   "source": [
    "FreqAlloc[:,0]"
   ]
  },
  {
   "cell_type": "code",
   "execution_count": 127,
   "id": "f54d2e21",
   "metadata": {},
   "outputs": [
    {
     "data": {
      "text/plain": [
       "array([11.,  5., 13., 13.,  1.,  5.,  5., 15., 15., 12.,  1.,  2.,  3.,\n",
       "        4.,  5.,  6.,  7.,  8.,  9., 10.])"
      ]
     },
     "execution_count": 127,
     "metadata": {},
     "output_type": "execute_result"
    }
   ],
   "source": [
    "FreqAlloc[:,0]"
   ]
  },
  {
   "cell_type": "code",
   "execution_count": 6,
   "id": "e1890816",
   "metadata": {},
   "outputs": [],
   "source": [
    "FreqAlloc = np.array(eng.workspace['FreqAlloc'])[:,tIndex]\n",
    "# Example: FreqAlloc = np.array([...])\n",
    "unique_values, counts = np.unique(FreqAlloc, return_counts=True)\n",
    "\n",
    "# Count how many values are repeated (i.e., count > 1)\n",
    "num_repeated = np.sum(counts > 1)   "
   ]
  },
  {
   "cell_type": "code",
   "execution_count": 16,
   "id": "3adeb530",
   "metadata": {},
   "outputs": [
    {
     "data": {
      "text/plain": [
       "array([ 4.,  2., 12., 14., 10.,  8., 14., 13.,  4., 15.,  1.,  2.,  3.,\n",
       "        4.,  5.,  6.,  7.,  8.,  9., 10.])"
      ]
     },
     "execution_count": 16,
     "metadata": {},
     "output_type": "execute_result"
    }
   ],
   "source": [
    "FreqAlloc"
   ]
  },
  {
   "cell_type": "code",
   "execution_count": 4,
   "id": "a49afd20",
   "metadata": {},
   "outputs": [],
   "source": [
    "leo_loc = np.array(eng.workspace['LEO_LOC'])   # ✅ Correct"
   ]
  },
  {
   "cell_type": "code",
   "execution_count": 27,
   "id": "09bb36ab",
   "metadata": {},
   "outputs": [],
   "source": [
    "FreqAlloc = np.array(eng.workspace['FreqAlloc'])[:,0]\n",
    "# Example: FreqAlloc = np.array([...])\n",
    "unique_values, counts = np.unique(FreqAlloc, return_counts=True)\n",
    "\n",
    "# Count how many values are repeated (i.e., count > 1)\n",
    "num_repeated = np.sum(counts > 1)   "
   ]
  },
  {
   "cell_type": "code",
   "execution_count": 34,
   "id": "56b24b85",
   "metadata": {},
   "outputs": [
    {
     "name": "stdout",
     "output_type": "stream",
     "text": [
      "unique_value: 1.0 , count: 1\n",
      "unique_value: 2.0 , count: 2\n",
      "unique_value: 3.0 , count: 1\n",
      "unique_value: 4.0 , count: 2\n",
      "unique_value: 5.0 , count: 1\n",
      "unique_value: 6.0 , count: 2\n",
      "unique_value: 7.0 , count: 3\n",
      "unique_value: 8.0 , count: 2\n",
      "unique_value: 9.0 , count: 2\n",
      "unique_value: 10.0 , count: 1\n",
      "unique_value: 12.0 , count: 2\n",
      "unique_value: 15.0 , count: 1\n"
     ]
    }
   ],
   "source": [
    "for i in range(len(unique_values)):\n",
    "    print(f'unique_value: {unique_values[i]} , count: {counts[i]}')\n"
   ]
  },
  {
   "cell_type": "code",
   "execution_count": 28,
   "id": "d1c6334d",
   "metadata": {},
   "outputs": [
    {
     "name": "stdout",
     "output_type": "stream",
     "text": [
      "7\n"
     ]
    }
   ],
   "source": [
    "print(num_repeated)"
   ]
  },
  {
   "cell_type": "code",
   "execution_count": 26,
   "id": "06b76a88",
   "metadata": {},
   "outputs": [
    {
     "name": "stdout",
     "output_type": "stream",
     "text": [
      "[ 6.  2.  7. 15.  7.  8. 12. 12.  4.  9.  1.  2.  3.  4.  5.  6.  7.  8.\n",
      "  9. 10.]\n"
     ]
    }
   ],
   "source": [
    "print(FreqAlloc[:,0])"
   ]
  },
  {
   "cell_type": "code",
   "execution_count": 24,
   "id": "c99ea946",
   "metadata": {},
   "outputs": [
    {
     "name": "stdout",
     "output_type": "stream",
     "text": [
      "(20, 121)\n"
     ]
    }
   ],
   "source": [
    "print(FreqAlloc.shape)"
   ]
  },
  {
   "cell_type": "code",
   "execution_count": null,
   "id": "995fcf01",
   "metadata": {},
   "outputs": [],
   "source": [
    "leo_loc.shape"
   ]
  },
  {
   "cell_type": "code",
   "execution_count": null,
   "id": "cf9288f3",
   "metadata": {},
   "outputs": [],
   "source": []
  },
  {
   "cell_type": "code",
   "execution_count": null,
   "id": "6ae5b58d",
   "metadata": {},
   "outputs": [],
   "source": [
    "leo_loc[0:10,0].flatten()"
   ]
  },
  {
   "cell_type": "code",
   "execution_count": null,
   "id": "25c4e35b",
   "metadata": {},
   "outputs": [],
   "source": [
    "Serv_idxLEO = np.array(eng.workspace['Serv_idxLEO'])"
   ]
  },
  {
   "cell_type": "code",
   "execution_count": null,
   "id": "da85575c",
   "metadata": {},
   "outputs": [],
   "source": [
    "tidx = 0"
   ]
  },
  {
   "cell_type": "code",
   "execution_count": null,
   "id": "34ac521d",
   "metadata": {},
   "outputs": [],
   "source": [
    "Serv_idxLEO[:10,tidx]"
   ]
  },
  {
   "cell_type": "code",
   "execution_count": null,
   "id": "d68db7a7",
   "metadata": {},
   "outputs": [],
   "source": [
    "eng.eval(\"resetScenario\", nargout=0)\n",
    "channel_list_leo = np.array(eng.workspace['ChannelListLeo'])"
   ]
  },
  {
   "cell_type": "code",
   "execution_count": null,
   "id": "6596370b",
   "metadata": {},
   "outputs": [],
   "source": [
    "# Store original values for comparison\n",
    "before_vals = []\n",
    "for i in range(10):\n",
    "    sat = Serv_idxLEO[i, tidx].astype(int) - 1\n",
    "    before_vals.append(channel_list_leo[i, sat, tidx])\n",
    "\n",
    "# Now do the assignment\n",
    "values = np.arange(100, 110)\n",
    "for i in range(10):\n",
    "    sat = Serv_idxLEO[i, tidx].astype(int) - 1\n",
    "    channel_list_leo[i, sat, tidx] = values[i]\n",
    "\n",
    "# Compare\n",
    "for i in range(10):\n",
    "    sat = Serv_idxLEO[i, tidx].astype(int) - 1\n",
    "    print(f\"User {i}: Before = {before_vals[i]}, After = {channel_list_leo[i, sat, tidx]}\")\n"
   ]
  },
  {
   "cell_type": "code",
   "execution_count": null,
   "id": "faa6a502",
   "metadata": {},
   "outputs": [],
   "source": []
  },
  {
   "cell_type": "code",
   "execution_count": null,
   "id": "e5786fe7",
   "metadata": {},
   "outputs": [],
   "source": [
    "channel_list_leo = np.array(eng.workspace['ChannelListLeo'])\n",
    "# channel_list_leo[0,Serv_idxLEO[:10,tidx].astype(int) - 1,tidx] = [0,1,2,3,4,5,6,7,8,9]\n",
    "values = np.arange(100, 110)\n",
    "for leoUserIdx in range(10):\n",
    "    print(\"leoUserIdx:\", leoUserIdx)\n",
    "    print(\"tidx:\", tidx)\n",
    "    print(\"Serv_idxLEO[leoUserIdx, tidx]:\",Serv_idxLEO[leoUserIdx, tidx].astype(int) - 1)\n",
    "    print(\"values[leoUserIdx]:\",values[leoUserIdx])\n",
    "    print(\"channel_list_leo[leoUserIdx, Serv_idxLEO[leoUserIdx, tidx].astype(int) - 1, tidx]\",channel_list_leo[leoUserIdx, Serv_idxLEO[leoUserIdx, tidx].astype(int) - 1, tidx])\n",
    "    channel_list_leo[leoUserIdx, Serv_idxLEO[leoUserIdx, tidx].astype(int) - 1, tidx] = int(values[leoUserIdx])\n",
    "    print(\"channel_list_leo[leoUserIdx, Serv_idxLEO[leoUserIdx, tidx].astype(int) - 1, tidx]\",channel_list_leo[leoUserIdx, Serv_idxLEO[leoUserIdx, tidx].astype(int) - 1, tidx])"
   ]
  },
  {
   "cell_type": "code",
   "execution_count": null,
   "id": "60ed23c1",
   "metadata": {},
   "outputs": [],
   "source": [
    "Serv_idxLEO[:10,tidx].astype(int) - 1"
   ]
  },
  {
   "cell_type": "code",
   "execution_count": null,
   "id": "c0a96d6e",
   "metadata": {},
   "outputs": [],
   "source": [
    "Serv_idxLEO[:10,tidx] -1"
   ]
  },
  {
   "cell_type": "code",
   "execution_count": null,
   "id": "089a9348",
   "metadata": {},
   "outputs": [],
   "source": [
    "channel_list_leo[5,[582, 582,  28, 485, 534, 582, 536, 582, 584, 584],0]"
   ]
  },
  {
   "cell_type": "code",
   "execution_count": null,
   "id": "80f2a857",
   "metadata": {},
   "outputs": [],
   "source": [
    "print(channel_list_leo[0,Serv_idxLEO[:10,tidx].astype(int) - 1,tidx])\n",
    "print(channel_list_leo[1,Serv_idxLEO[:10,tidx].astype(int) - 1,tidx])\n",
    "print(channel_list_leo[2,Serv_idxLEO[:10,tidx].astype(int) - 1,tidx])\n",
    "print(channel_list_leo[3,Serv_idxLEO[:10,tidx].astype(int) - 1,tidx])\n",
    "print(channel_list_leo[4,Serv_idxLEO[:10,tidx].astype(int) - 1,tidx])\n",
    "print(channel_list_leo[5,Serv_idxLEO[:10,tidx].astype(int) - 1,tidx])\n",
    "print(channel_list_leo[6,Serv_idxLEO[:10,tidx].astype(int) - 1,tidx])\n",
    "print(channel_list_leo[7,Serv_idxLEO[:10,tidx].astype(int) - 1,tidx])\n",
    "print(channel_list_leo[8,Serv_idxLEO[:10,tidx].astype(int) - 1,tidx])\n",
    "print(channel_list_leo[9,Serv_idxLEO[:10,tidx].astype(int) - 1,tidx])\n",
    "print(channel_list_leo[10,Serv_idxLEO[:10,tidx].astype(int) - 1,tidx])\n",
    "print(channel_list_leo[11,Serv_idxLEO[:10,tidx].astype(int) - 1,tidx])"
   ]
  },
  {
   "cell_type": "code",
   "execution_count": null,
   "id": "bc3572bf",
   "metadata": {},
   "outputs": [],
   "source": [
    "print(channel_list_leo[0,Serv_idxLEO[0,tidx].astype(int) - 1,tidx])\n",
    "print(channel_list_leo[1,Serv_idxLEO[1,tidx].astype(int) - 1,tidx])\n",
    "print(channel_list_leo[2,Serv_idxLEO[2,tidx].astype(int) - 1,tidx])\n",
    "print(channel_list_leo[3,Serv_idxLEO[3,tidx].astype(int) - 1,tidx])\n",
    "print(channel_list_leo[4,Serv_idxLEO[4,tidx].astype(int) - 1,tidx])\n",
    "print(channel_list_leo[5,Serv_idxLEO[5,tidx].astype(int) - 1,tidx])\n",
    "print(channel_list_leo[6,Serv_idxLEO[6,tidx].astype(int) - 1,tidx])\n",
    "print(channel_list_leo[7,Serv_idxLEO[7,tidx].astype(int) - 1,tidx])\n",
    "print(channel_list_leo[8,Serv_idxLEO[8,tidx].astype(int) - 1,tidx])\n",
    "print(channel_list_leo[9,Serv_idxLEO[9,tidx].astype(int) - 1,tidx])\n",
    "print(channel_list_leo[10,Serv_idxLEO[10,tidx].astype(int) - 1,tidx])\n",
    "print(channel_list_leo[11,Serv_idxLEO[11,tidx].astype(int) - 1,tidx])"
   ]
  },
  {
   "cell_type": "code",
   "execution_count": null,
   "id": "346c7bb9",
   "metadata": {},
   "outputs": [],
   "source": [
    "eng.workspace['ChannelListLeo'] = matlab.double(channel_list_leo)"
   ]
  },
  {
   "cell_type": "code",
   "execution_count": null,
   "id": "6fdc4010",
   "metadata": {},
   "outputs": [],
   "source": [
    "eng.eval(\"P06_Intf_Eval\", nargout=0)\n",
    "FreqAlloc = np.array(eng.workspace['FreqAlloc'])"
   ]
  },
  {
   "cell_type": "code",
   "execution_count": null,
   "id": "9a472094",
   "metadata": {},
   "outputs": [],
   "source": [
    "FreqAlloc[:,0]"
   ]
  },
  {
   "cell_type": "code",
   "execution_count": null,
   "id": "24a77ebc",
   "metadata": {},
   "outputs": [],
   "source": [
    "SINR = np.array(eng.workspace['SINR'])\n",
    "Intf = np.array(eng.workspace['Intf'])"
   ]
  },
  {
   "cell_type": "code",
   "execution_count": null,
   "id": "1ab01876",
   "metadata": {},
   "outputs": [],
   "source": [
    "Interference_to_geo_users = Intf[10:10+ 10, 0]"
   ]
  },
  {
   "cell_type": "code",
   "execution_count": null,
   "id": "00be75dc",
   "metadata": {},
   "outputs": [],
   "source": [
    "Interference_to_geo_users"
   ]
  },
  {
   "cell_type": "code",
   "execution_count": null,
   "id": "a1b93a87",
   "metadata": {},
   "outputs": [],
   "source": [
    "Intf[:,0]"
   ]
  },
  {
   "cell_type": "code",
   "execution_count": null,
   "id": "f0722548",
   "metadata": {},
   "outputs": [],
   "source": [
    "Intf[10:10+ 10, 0]"
   ]
  },
  {
   "cell_type": "code",
   "execution_count": null,
   "id": "159761a0",
   "metadata": {},
   "outputs": [],
   "source": [
    "Thrpt = np.array(eng.workspace['Thrpt'])"
   ]
  },
  {
   "cell_type": "code",
   "execution_count": null,
   "id": "a88aab58",
   "metadata": {},
   "outputs": [],
   "source": [
    "Thrpt[:,0]"
   ]
  },
  {
   "cell_type": "code",
   "execution_count": null,
   "id": "e1bfcf34",
   "metadata": {},
   "outputs": [],
   "source": [
    "import math\n",
    "math.log2"
   ]
  },
  {
   "cell_type": "code",
   "execution_count": null,
   "id": "60672329",
   "metadata": {},
   "outputs": [],
   "source": [
    "SINR[:10,0][0] / Interference_to_geo_users[0]"
   ]
  },
  {
   "cell_type": "code",
   "execution_count": null,
   "id": "2c9f289a",
   "metadata": {},
   "outputs": [],
   "source": [
    "SINR[:10,0] / Interference_to_geo_users"
   ]
  },
  {
   "cell_type": "code",
   "execution_count": null,
   "id": "85799dae",
   "metadata": {},
   "outputs": [],
   "source": [
    "reward = np.sum(SINR[:10,0] / Interference_to_geo_users)"
   ]
  },
  {
   "cell_type": "code",
   "execution_count": null,
   "id": "c5242dc0",
   "metadata": {},
   "outputs": [],
   "source": []
  },
  {
   "cell_type": "code",
   "execution_count": null,
   "id": "b3791428",
   "metadata": {},
   "outputs": [],
   "source": [
    "FreqAlloc = np.array(eng.workspace['FreqAlloc'])\n",
    "LeoFreqAlloc = FreqAlloc[:10,:]\n",
    "GeoFreqAlloc = FreqAlloc[10:20,:]"
   ]
  },
  {
   "cell_type": "code",
   "execution_count": null,
   "id": "332fdab2",
   "metadata": {},
   "outputs": [],
   "source": [
    "FreqAlloc[:,0]"
   ]
  },
  {
   "cell_type": "code",
   "execution_count": null,
   "id": "424ec3a8",
   "metadata": {},
   "outputs": [],
   "source": [
    "GeoFreqAlloc[:,0]"
   ]
  },
  {
   "cell_type": "code",
   "execution_count": null,
   "id": "4430d26a",
   "metadata": {},
   "outputs": [],
   "source": [
    "LeoFreqAlloc[:,0]"
   ]
  },
  {
   "cell_type": "code",
   "execution_count": null,
   "id": "f7b4906d",
   "metadata": {},
   "outputs": [],
   "source": [
    "np.array(eng.workspace['ChannelListLeo'])[0,582,0]"
   ]
  },
  {
   "cell_type": "code",
   "execution_count": null,
   "id": "ff56aa54",
   "metadata": {},
   "outputs": [],
   "source": [
    "np.array(eng.workspace['Serv_idxLEO'])[0,0]"
   ]
  },
  {
   "cell_type": "code",
   "execution_count": null,
   "id": "2baf116f",
   "metadata": {},
   "outputs": [],
   "source": [
    "np.array(eng.workspace['FreqAlloc']).shape"
   ]
  },
  {
   "cell_type": "code",
   "execution_count": null,
   "id": "e069cd1f",
   "metadata": {},
   "outputs": [],
   "source": [
    "np.array(eng.workspace['FreqAlloc'])[0,0]"
   ]
  },
  {
   "cell_type": "code",
   "execution_count": null,
   "id": "5389e0a3",
   "metadata": {},
   "outputs": [],
   "source": [
    "NumLeoUser = int(eng.workspace['NumLeoUser'])"
   ]
  },
  {
   "cell_type": "code",
   "execution_count": null,
   "id": "104406af",
   "metadata": {},
   "outputs": [],
   "source": [
    "NumLeoUser"
   ]
  },
  {
   "cell_type": "code",
   "execution_count": null,
   "id": "9e585b12",
   "metadata": {},
   "outputs": [],
   "source": [
    "Serv_idxLEO = np.array(eng.workspace['Serv_idxLEO'])\n",
    "# Access the variable from MATLAB workspace\n",
    "channel_list_leo = eng.workspace['ChannelListLeo']\n",
    "\n",
    "import numpy as np\n",
    "\n",
    "# Convert MATLAB array to NumPy array\n",
    "channel_list_leo_np = np.array(channel_list_leo)\n",
    "\n",
    "channel_list_leo_np[0, 0, 0] = 200\n",
    "channel_list_leo_np[0, int(Serv_idxLEO[0,0])-1, 0] = 2\n",
    "eng.workspace['ChannelListLeo'] = matlab.double(channel_list_leo_np)\n"
   ]
  },
  {
   "cell_type": "code",
   "execution_count": null,
   "id": "1387b289",
   "metadata": {},
   "outputs": [],
   "source": [
    "eng.eval(\"resetScenario\", nargout=0)"
   ]
  },
  {
   "cell_type": "code",
   "execution_count": null,
   "id": "226324dd",
   "metadata": {},
   "outputs": [],
   "source": [
    "np.array(eng.workspace['ChannelListLeo'])"
   ]
  },
  {
   "cell_type": "code",
   "execution_count": null,
   "id": "91ec6a8a",
   "metadata": {},
   "outputs": [],
   "source": [
    "eng.eval(\"stepScenario\", nargout=0)"
   ]
  },
  {
   "cell_type": "code",
   "execution_count": null,
   "id": "da4ba62d",
   "metadata": {},
   "outputs": [],
   "source": [
    "np.array(eng.workspace['ChannelListLeo'])[0,582,0]"
   ]
  },
  {
   "cell_type": "code",
   "execution_count": null,
   "id": "5eca04c4",
   "metadata": {},
   "outputs": [],
   "source": [
    "np.array(eng.workspace['Serv_idxLEO'])[0,0]"
   ]
  },
  {
   "cell_type": "code",
   "execution_count": null,
   "id": "2e19ad02",
   "metadata": {},
   "outputs": [],
   "source": [
    "ts = eng.workspace['ts']"
   ]
  },
  {
   "cell_type": "code",
   "execution_count": null,
   "id": "4fbd85e9",
   "metadata": {},
   "outputs": [],
   "source": [
    "type(ts)"
   ]
  },
  {
   "cell_type": "code",
   "execution_count": null,
   "id": "048e0281",
   "metadata": {},
   "outputs": [],
   "source": [
    "ts_str = eng.eval(\"cellstr(datestr(ts, 'yyyy-mm-ddTHH:MM:SS'))\", nargout=1)\n",
    "python_datetimes = [datetime.fromisoformat(s) for s in ts_str]\n"
   ]
  },
  {
   "cell_type": "code",
   "execution_count": null,
   "id": "7c53bbee",
   "metadata": {},
   "outputs": [],
   "source": [
    "def get_matlab_ts():\n",
    "    \"\"\"\n",
    "    Get the MATLAB timestamp as a list of strings.\n",
    "    \"\"\"\n",
    "    ts_str = eng.eval(\"cellstr(datestr(ts, 'yyyy-mm-ddTHH:MM:SS'))\", nargout=1)\n",
    "    python_datetimes = [datetime.fromisoformat(s) for s in ts_str]\n",
    "    return python_datetimes"
   ]
  },
  {
   "cell_type": "code",
   "execution_count": null,
   "id": "9b640d8f",
   "metadata": {},
   "outputs": [],
   "source": [
    "get_matlab_ts()"
   ]
  },
  {
   "cell_type": "code",
   "execution_count": null,
   "id": "96ea7768",
   "metadata": {},
   "outputs": [],
   "source": [
    "timelength = eng.eval(\"length(ts)\", nargout=1)"
   ]
  },
  {
   "cell_type": "code",
   "execution_count": null,
   "id": "21259932",
   "metadata": {},
   "outputs": [],
   "source": [
    "timelength"
   ]
  },
  {
   "cell_type": "code",
   "execution_count": null,
   "id": "d0fca4db",
   "metadata": {},
   "outputs": [],
   "source": [
    "SINR = np.array(eng.workspace['SINR'])"
   ]
  },
  {
   "cell_type": "code",
   "execution_count": null,
   "id": "583baf59",
   "metadata": {},
   "outputs": [],
   "source": [
    "SINR.shape"
   ]
  },
  {
   "cell_type": "code",
   "execution_count": null,
   "id": "0453e422",
   "metadata": {},
   "outputs": [],
   "source": [
    "SINR[:,0]"
   ]
  },
  {
   "cell_type": "code",
   "execution_count": null,
   "id": "1a19585c",
   "metadata": {},
   "outputs": [],
   "source": [
    "SINR[:,0].shape"
   ]
  },
  {
   "cell_type": "code",
   "execution_count": null,
   "id": "511f71d2",
   "metadata": {},
   "outputs": [],
   "source": [
    "# Access the variable from MATLAB workspace\n",
    "channel_list_leo = eng.workspace['ChannelListLeo']\n",
    "\n",
    "import numpy as np\n",
    "\n",
    "# Convert MATLAB array to NumPy array\n",
    "channel_list_leo_np = np.array(channel_list_leo)\n"
   ]
  },
  {
   "cell_type": "code",
   "execution_count": null,
   "id": "2e781871",
   "metadata": {},
   "outputs": [],
   "source": [
    "channel_list_leo_np[0, 0, :]"
   ]
  },
  {
   "cell_type": "code",
   "execution_count": null,
   "id": "8c471b89",
   "metadata": {},
   "outputs": [],
   "source": [
    "Serv_idxLEO = np.array(eng.workspace['Serv_idxLEO'])"
   ]
  },
  {
   "cell_type": "code",
   "execution_count": null,
   "id": "a40a0876",
   "metadata": {},
   "outputs": [],
   "source": [
    "Serv_idxLEO[0:,0].shape"
   ]
  },
  {
   "cell_type": "code",
   "execution_count": null,
   "id": "fb905892",
   "metadata": {},
   "outputs": [],
   "source": [
    "Serv_idxLEO[0,0]"
   ]
  },
  {
   "cell_type": "code",
   "execution_count": null,
   "id": "13a62d0d",
   "metadata": {},
   "outputs": [],
   "source": [
    "np.array(eng.workspace['FreqAlloc']).shape"
   ]
  }
 ],
 "metadata": {
  "kernelspec": {
   "display_name": "cogsat",
   "language": "python",
   "name": "python3"
  },
  "language_info": {
   "codemirror_mode": {
    "name": "ipython",
    "version": 3
   },
   "file_extension": ".py",
   "mimetype": "text/x-python",
   "name": "python",
   "nbconvert_exporter": "python",
   "pygments_lexer": "ipython3",
   "version": "3.12.11"
  }
 },
 "nbformat": 4,
 "nbformat_minor": 5
}
