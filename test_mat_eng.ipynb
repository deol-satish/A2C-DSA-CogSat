{
 "cells": [
  {
   "cell_type": "code",
   "execution_count": 1,
   "id": "7ff44312",
   "metadata": {},
   "outputs": [],
   "source": [
    "import logging\n",
    "import json\n",
    "import numpy as np\n",
    "from datetime import datetime, timedelta"
   ]
  },
  {
   "cell_type": "code",
   "execution_count": 2,
   "id": "2c5e5104",
   "metadata": {},
   "outputs": [],
   "source": [
    "import matlab.engine\n",
    "\n",
    "# Start MATLAB\n",
    "eng = matlab.engine.start_matlab()"
   ]
  },
  {
   "cell_type": "code",
   "execution_count": 3,
   "id": "bdeeff9f",
   "metadata": {},
   "outputs": [],
   "source": [
    "# Add path if needed\n",
    "eng.addpath(r'./matlab_code', nargout=0)\n",
    "\n",
    "eng.eval(\"P00_Main\", nargout=0)"
   ]
  },
  {
   "cell_type": "code",
   "execution_count": 5,
   "id": "c575e44f",
   "metadata": {},
   "outputs": [],
   "source": [
    "tIndex = 0"
   ]
  },
  {
   "cell_type": "code",
   "execution_count": 6,
   "id": "e1890816",
   "metadata": {},
   "outputs": [],
   "source": [
    "FreqAlloc = np.array(eng.workspace['FreqAlloc'])[:,tIndex]\n",
    "# Example: FreqAlloc = np.array([...])\n",
    "unique_values, counts = np.unique(FreqAlloc, return_counts=True)\n",
    "\n",
    "# Count how many values are repeated (i.e., count > 1)\n",
    "num_repeated = np.sum(counts > 1)   "
   ]
  },
  {
   "cell_type": "code",
   "execution_count": 7,
   "id": "3adeb530",
   "metadata": {},
   "outputs": [
    {
     "data": {
      "text/plain": [
       "array([ 6.,  2.,  7., 15.,  7.,  8., 12., 12.,  4.,  9.,  1.,  2.,  3.,\n",
       "        4.,  5.,  6.,  7.,  8.,  9., 10.])"
      ]
     },
     "execution_count": 7,
     "metadata": {},
     "output_type": "execute_result"
    }
   ],
   "source": [
    "FreqAlloc"
   ]
  },
  {
   "cell_type": "code",
   "execution_count": 4,
   "id": "a49afd20",
   "metadata": {},
   "outputs": [],
   "source": [
    "leo_loc = np.array(eng.workspace['LEO_LOC'])   # ✅ Correct"
   ]
  },
  {
   "cell_type": "code",
   "execution_count": 27,
   "id": "09bb36ab",
   "metadata": {},
   "outputs": [],
   "source": [
    "FreqAlloc = np.array(eng.workspace['FreqAlloc'])[:,0]\n",
    "# Example: FreqAlloc = np.array([...])\n",
    "unique_values, counts = np.unique(FreqAlloc, return_counts=True)\n",
    "\n",
    "# Count how many values are repeated (i.e., count > 1)\n",
    "num_repeated = np.sum(counts > 1)   "
   ]
  },
  {
   "cell_type": "code",
   "execution_count": 34,
   "id": "56b24b85",
   "metadata": {},
   "outputs": [
    {
     "name": "stdout",
     "output_type": "stream",
     "text": [
      "unique_value: 1.0 , count: 1\n",
      "unique_value: 2.0 , count: 2\n",
      "unique_value: 3.0 , count: 1\n",
      "unique_value: 4.0 , count: 2\n",
      "unique_value: 5.0 , count: 1\n",
      "unique_value: 6.0 , count: 2\n",
      "unique_value: 7.0 , count: 3\n",
      "unique_value: 8.0 , count: 2\n",
      "unique_value: 9.0 , count: 2\n",
      "unique_value: 10.0 , count: 1\n",
      "unique_value: 12.0 , count: 2\n",
      "unique_value: 15.0 , count: 1\n"
     ]
    }
   ],
   "source": [
    "for i in range(len(unique_values)):\n",
    "    print(f'unique_value: {unique_values[i]} , count: {counts[i]}')\n"
   ]
  },
  {
   "cell_type": "code",
   "execution_count": 28,
   "id": "d1c6334d",
   "metadata": {},
   "outputs": [
    {
     "name": "stdout",
     "output_type": "stream",
     "text": [
      "7\n"
     ]
    }
   ],
   "source": [
    "print(num_repeated)"
   ]
  },
  {
   "cell_type": "code",
   "execution_count": 26,
   "id": "06b76a88",
   "metadata": {},
   "outputs": [
    {
     "name": "stdout",
     "output_type": "stream",
     "text": [
      "[ 6.  2.  7. 15.  7.  8. 12. 12.  4.  9.  1.  2.  3.  4.  5.  6.  7.  8.\n",
      "  9. 10.]\n"
     ]
    }
   ],
   "source": [
    "print(FreqAlloc[:,0])"
   ]
  },
  {
   "cell_type": "code",
   "execution_count": 24,
   "id": "c99ea946",
   "metadata": {},
   "outputs": [
    {
     "name": "stdout",
     "output_type": "stream",
     "text": [
      "(20, 121)\n"
     ]
    }
   ],
   "source": [
    "print(FreqAlloc.shape)"
   ]
  },
  {
   "cell_type": "code",
   "execution_count": null,
   "id": "995fcf01",
   "metadata": {},
   "outputs": [],
   "source": [
    "leo_loc.shape"
   ]
  },
  {
   "cell_type": "code",
   "execution_count": null,
   "id": "cf9288f3",
   "metadata": {},
   "outputs": [],
   "source": []
  },
  {
   "cell_type": "code",
   "execution_count": null,
   "id": "6ae5b58d",
   "metadata": {},
   "outputs": [],
   "source": [
    "leo_loc[0:10,0].flatten()"
   ]
  },
  {
   "cell_type": "code",
   "execution_count": null,
   "id": "25c4e35b",
   "metadata": {},
   "outputs": [],
   "source": [
    "Serv_idxLEO = np.array(eng.workspace['Serv_idxLEO'])"
   ]
  },
  {
   "cell_type": "code",
   "execution_count": null,
   "id": "da85575c",
   "metadata": {},
   "outputs": [],
   "source": [
    "tidx = 0"
   ]
  },
  {
   "cell_type": "code",
   "execution_count": null,
   "id": "34ac521d",
   "metadata": {},
   "outputs": [],
   "source": [
    "Serv_idxLEO[:10,tidx]"
   ]
  },
  {
   "cell_type": "code",
   "execution_count": null,
   "id": "d68db7a7",
   "metadata": {},
   "outputs": [],
   "source": [
    "eng.eval(\"resetScenario\", nargout=0)\n",
    "channel_list_leo = np.array(eng.workspace['ChannelListLeo'])"
   ]
  },
  {
   "cell_type": "code",
   "execution_count": null,
   "id": "6596370b",
   "metadata": {},
   "outputs": [],
   "source": [
    "# Store original values for comparison\n",
    "before_vals = []\n",
    "for i in range(10):\n",
    "    sat = Serv_idxLEO[i, tidx].astype(int) - 1\n",
    "    before_vals.append(channel_list_leo[i, sat, tidx])\n",
    "\n",
    "# Now do the assignment\n",
    "values = np.arange(100, 110)\n",
    "for i in range(10):\n",
    "    sat = Serv_idxLEO[i, tidx].astype(int) - 1\n",
    "    channel_list_leo[i, sat, tidx] = values[i]\n",
    "\n",
    "# Compare\n",
    "for i in range(10):\n",
    "    sat = Serv_idxLEO[i, tidx].astype(int) - 1\n",
    "    print(f\"User {i}: Before = {before_vals[i]}, After = {channel_list_leo[i, sat, tidx]}\")\n"
   ]
  },
  {
   "cell_type": "code",
   "execution_count": null,
   "id": "faa6a502",
   "metadata": {},
   "outputs": [],
   "source": []
  },
  {
   "cell_type": "code",
   "execution_count": null,
   "id": "e5786fe7",
   "metadata": {},
   "outputs": [],
   "source": [
    "channel_list_leo = np.array(eng.workspace['ChannelListLeo'])\n",
    "# channel_list_leo[0,Serv_idxLEO[:10,tidx].astype(int) - 1,tidx] = [0,1,2,3,4,5,6,7,8,9]\n",
    "values = np.arange(100, 110)\n",
    "for leoUserIdx in range(10):\n",
    "    print(\"leoUserIdx:\", leoUserIdx)\n",
    "    print(\"tidx:\", tidx)\n",
    "    print(\"Serv_idxLEO[leoUserIdx, tidx]:\",Serv_idxLEO[leoUserIdx, tidx].astype(int) - 1)\n",
    "    print(\"values[leoUserIdx]:\",values[leoUserIdx])\n",
    "    print(\"channel_list_leo[leoUserIdx, Serv_idxLEO[leoUserIdx, tidx].astype(int) - 1, tidx]\",channel_list_leo[leoUserIdx, Serv_idxLEO[leoUserIdx, tidx].astype(int) - 1, tidx])\n",
    "    channel_list_leo[leoUserIdx, Serv_idxLEO[leoUserIdx, tidx].astype(int) - 1, tidx] = int(values[leoUserIdx])\n",
    "    print(\"channel_list_leo[leoUserIdx, Serv_idxLEO[leoUserIdx, tidx].astype(int) - 1, tidx]\",channel_list_leo[leoUserIdx, Serv_idxLEO[leoUserIdx, tidx].astype(int) - 1, tidx])"
   ]
  },
  {
   "cell_type": "code",
   "execution_count": null,
   "id": "60ed23c1",
   "metadata": {},
   "outputs": [],
   "source": [
    "Serv_idxLEO[:10,tidx].astype(int) - 1"
   ]
  },
  {
   "cell_type": "code",
   "execution_count": null,
   "id": "c0a96d6e",
   "metadata": {},
   "outputs": [],
   "source": [
    "Serv_idxLEO[:10,tidx] -1"
   ]
  },
  {
   "cell_type": "code",
   "execution_count": null,
   "id": "089a9348",
   "metadata": {},
   "outputs": [],
   "source": [
    "channel_list_leo[5,[582, 582,  28, 485, 534, 582, 536, 582, 584, 584],0]"
   ]
  },
  {
   "cell_type": "code",
   "execution_count": null,
   "id": "80f2a857",
   "metadata": {},
   "outputs": [],
   "source": [
    "print(channel_list_leo[0,Serv_idxLEO[:10,tidx].astype(int) - 1,tidx])\n",
    "print(channel_list_leo[1,Serv_idxLEO[:10,tidx].astype(int) - 1,tidx])\n",
    "print(channel_list_leo[2,Serv_idxLEO[:10,tidx].astype(int) - 1,tidx])\n",
    "print(channel_list_leo[3,Serv_idxLEO[:10,tidx].astype(int) - 1,tidx])\n",
    "print(channel_list_leo[4,Serv_idxLEO[:10,tidx].astype(int) - 1,tidx])\n",
    "print(channel_list_leo[5,Serv_idxLEO[:10,tidx].astype(int) - 1,tidx])\n",
    "print(channel_list_leo[6,Serv_idxLEO[:10,tidx].astype(int) - 1,tidx])\n",
    "print(channel_list_leo[7,Serv_idxLEO[:10,tidx].astype(int) - 1,tidx])\n",
    "print(channel_list_leo[8,Serv_idxLEO[:10,tidx].astype(int) - 1,tidx])\n",
    "print(channel_list_leo[9,Serv_idxLEO[:10,tidx].astype(int) - 1,tidx])\n",
    "print(channel_list_leo[10,Serv_idxLEO[:10,tidx].astype(int) - 1,tidx])\n",
    "print(channel_list_leo[11,Serv_idxLEO[:10,tidx].astype(int) - 1,tidx])"
   ]
  },
  {
   "cell_type": "code",
   "execution_count": null,
   "id": "bc3572bf",
   "metadata": {},
   "outputs": [],
   "source": [
    "print(channel_list_leo[0,Serv_idxLEO[0,tidx].astype(int) - 1,tidx])\n",
    "print(channel_list_leo[1,Serv_idxLEO[1,tidx].astype(int) - 1,tidx])\n",
    "print(channel_list_leo[2,Serv_idxLEO[2,tidx].astype(int) - 1,tidx])\n",
    "print(channel_list_leo[3,Serv_idxLEO[3,tidx].astype(int) - 1,tidx])\n",
    "print(channel_list_leo[4,Serv_idxLEO[4,tidx].astype(int) - 1,tidx])\n",
    "print(channel_list_leo[5,Serv_idxLEO[5,tidx].astype(int) - 1,tidx])\n",
    "print(channel_list_leo[6,Serv_idxLEO[6,tidx].astype(int) - 1,tidx])\n",
    "print(channel_list_leo[7,Serv_idxLEO[7,tidx].astype(int) - 1,tidx])\n",
    "print(channel_list_leo[8,Serv_idxLEO[8,tidx].astype(int) - 1,tidx])\n",
    "print(channel_list_leo[9,Serv_idxLEO[9,tidx].astype(int) - 1,tidx])\n",
    "print(channel_list_leo[10,Serv_idxLEO[10,tidx].astype(int) - 1,tidx])\n",
    "print(channel_list_leo[11,Serv_idxLEO[11,tidx].astype(int) - 1,tidx])"
   ]
  },
  {
   "cell_type": "code",
   "execution_count": null,
   "id": "346c7bb9",
   "metadata": {},
   "outputs": [],
   "source": [
    "eng.workspace['ChannelListLeo'] = matlab.double(channel_list_leo)"
   ]
  },
  {
   "cell_type": "code",
   "execution_count": null,
   "id": "6fdc4010",
   "metadata": {},
   "outputs": [],
   "source": [
    "eng.eval(\"P06_Intf_Eval\", nargout=0)\n",
    "FreqAlloc = np.array(eng.workspace['FreqAlloc'])"
   ]
  },
  {
   "cell_type": "code",
   "execution_count": null,
   "id": "9a472094",
   "metadata": {},
   "outputs": [],
   "source": [
    "FreqAlloc[:,0]"
   ]
  },
  {
   "cell_type": "code",
   "execution_count": null,
   "id": "24a77ebc",
   "metadata": {},
   "outputs": [],
   "source": [
    "SINR = np.array(eng.workspace['SINR'])\n",
    "Intf = np.array(eng.workspace['Intf'])"
   ]
  },
  {
   "cell_type": "code",
   "execution_count": null,
   "id": "1ab01876",
   "metadata": {},
   "outputs": [],
   "source": [
    "Interference_to_geo_users = Intf[10:10+ 10, 0]"
   ]
  },
  {
   "cell_type": "code",
   "execution_count": null,
   "id": "00be75dc",
   "metadata": {},
   "outputs": [],
   "source": [
    "Interference_to_geo_users"
   ]
  },
  {
   "cell_type": "code",
   "execution_count": null,
   "id": "a1b93a87",
   "metadata": {},
   "outputs": [],
   "source": [
    "Intf[:,0]"
   ]
  },
  {
   "cell_type": "code",
   "execution_count": null,
   "id": "f0722548",
   "metadata": {},
   "outputs": [],
   "source": [
    "Intf[10:10+ 10, 0]"
   ]
  },
  {
   "cell_type": "code",
   "execution_count": null,
   "id": "159761a0",
   "metadata": {},
   "outputs": [],
   "source": [
    "Thrpt = np.array(eng.workspace['Thrpt'])"
   ]
  },
  {
   "cell_type": "code",
   "execution_count": null,
   "id": "a88aab58",
   "metadata": {},
   "outputs": [],
   "source": [
    "Thrpt[:,0]"
   ]
  },
  {
   "cell_type": "code",
   "execution_count": null,
   "id": "e1bfcf34",
   "metadata": {},
   "outputs": [],
   "source": [
    "import math\n",
    "math.log2"
   ]
  },
  {
   "cell_type": "code",
   "execution_count": null,
   "id": "60672329",
   "metadata": {},
   "outputs": [],
   "source": [
    "SINR[:10,0][0] / Interference_to_geo_users[0]"
   ]
  },
  {
   "cell_type": "code",
   "execution_count": null,
   "id": "2c9f289a",
   "metadata": {},
   "outputs": [],
   "source": [
    "SINR[:10,0] / Interference_to_geo_users"
   ]
  },
  {
   "cell_type": "code",
   "execution_count": null,
   "id": "85799dae",
   "metadata": {},
   "outputs": [],
   "source": [
    "reward = np.sum(SINR[:10,0] / Interference_to_geo_users)"
   ]
  },
  {
   "cell_type": "code",
   "execution_count": null,
   "id": "c5242dc0",
   "metadata": {},
   "outputs": [],
   "source": []
  },
  {
   "cell_type": "code",
   "execution_count": null,
   "id": "b3791428",
   "metadata": {},
   "outputs": [],
   "source": [
    "FreqAlloc = np.array(eng.workspace['FreqAlloc'])\n",
    "LeoFreqAlloc = FreqAlloc[:10,:]\n",
    "GeoFreqAlloc = FreqAlloc[10:20,:]"
   ]
  },
  {
   "cell_type": "code",
   "execution_count": null,
   "id": "332fdab2",
   "metadata": {},
   "outputs": [],
   "source": [
    "FreqAlloc[:,0]"
   ]
  },
  {
   "cell_type": "code",
   "execution_count": null,
   "id": "424ec3a8",
   "metadata": {},
   "outputs": [],
   "source": [
    "GeoFreqAlloc[:,0]"
   ]
  },
  {
   "cell_type": "code",
   "execution_count": null,
   "id": "4430d26a",
   "metadata": {},
   "outputs": [],
   "source": [
    "LeoFreqAlloc[:,0]"
   ]
  },
  {
   "cell_type": "code",
   "execution_count": null,
   "id": "f7b4906d",
   "metadata": {},
   "outputs": [],
   "source": [
    "np.array(eng.workspace['ChannelListLeo'])[0,582,0]"
   ]
  },
  {
   "cell_type": "code",
   "execution_count": null,
   "id": "ff56aa54",
   "metadata": {},
   "outputs": [],
   "source": [
    "np.array(eng.workspace['Serv_idxLEO'])[0,0]"
   ]
  },
  {
   "cell_type": "code",
   "execution_count": null,
   "id": "2baf116f",
   "metadata": {},
   "outputs": [],
   "source": [
    "np.array(eng.workspace['FreqAlloc']).shape"
   ]
  },
  {
   "cell_type": "code",
   "execution_count": null,
   "id": "e069cd1f",
   "metadata": {},
   "outputs": [],
   "source": [
    "np.array(eng.workspace['FreqAlloc'])[0,0]"
   ]
  },
  {
   "cell_type": "code",
   "execution_count": null,
   "id": "5389e0a3",
   "metadata": {},
   "outputs": [],
   "source": [
    "NumLeoUser = int(eng.workspace['NumLeoUser'])"
   ]
  },
  {
   "cell_type": "code",
   "execution_count": null,
   "id": "104406af",
   "metadata": {},
   "outputs": [],
   "source": [
    "NumLeoUser"
   ]
  },
  {
   "cell_type": "code",
   "execution_count": null,
   "id": "9e585b12",
   "metadata": {},
   "outputs": [],
   "source": [
    "Serv_idxLEO = np.array(eng.workspace['Serv_idxLEO'])\n",
    "# Access the variable from MATLAB workspace\n",
    "channel_list_leo = eng.workspace['ChannelListLeo']\n",
    "\n",
    "import numpy as np\n",
    "\n",
    "# Convert MATLAB array to NumPy array\n",
    "channel_list_leo_np = np.array(channel_list_leo)\n",
    "\n",
    "channel_list_leo_np[0, 0, 0] = 200\n",
    "channel_list_leo_np[0, int(Serv_idxLEO[0,0])-1, 0] = 2\n",
    "eng.workspace['ChannelListLeo'] = matlab.double(channel_list_leo_np)\n"
   ]
  },
  {
   "cell_type": "code",
   "execution_count": null,
   "id": "1387b289",
   "metadata": {},
   "outputs": [],
   "source": [
    "eng.eval(\"resetScenario\", nargout=0)"
   ]
  },
  {
   "cell_type": "code",
   "execution_count": null,
   "id": "226324dd",
   "metadata": {},
   "outputs": [],
   "source": [
    "np.array(eng.workspace['ChannelListLeo'])"
   ]
  },
  {
   "cell_type": "code",
   "execution_count": null,
   "id": "91ec6a8a",
   "metadata": {},
   "outputs": [],
   "source": [
    "eng.eval(\"stepScenario\", nargout=0)"
   ]
  },
  {
   "cell_type": "code",
   "execution_count": null,
   "id": "da4ba62d",
   "metadata": {},
   "outputs": [],
   "source": [
    "np.array(eng.workspace['ChannelListLeo'])[0,582,0]"
   ]
  },
  {
   "cell_type": "code",
   "execution_count": null,
   "id": "5eca04c4",
   "metadata": {},
   "outputs": [],
   "source": [
    "np.array(eng.workspace['Serv_idxLEO'])[0,0]"
   ]
  },
  {
   "cell_type": "code",
   "execution_count": null,
   "id": "2e19ad02",
   "metadata": {},
   "outputs": [],
   "source": [
    "ts = eng.workspace['ts']"
   ]
  },
  {
   "cell_type": "code",
   "execution_count": null,
   "id": "4fbd85e9",
   "metadata": {},
   "outputs": [],
   "source": [
    "type(ts)"
   ]
  },
  {
   "cell_type": "code",
   "execution_count": null,
   "id": "048e0281",
   "metadata": {},
   "outputs": [],
   "source": [
    "ts_str = eng.eval(\"cellstr(datestr(ts, 'yyyy-mm-ddTHH:MM:SS'))\", nargout=1)\n",
    "python_datetimes = [datetime.fromisoformat(s) for s in ts_str]\n"
   ]
  },
  {
   "cell_type": "code",
   "execution_count": null,
   "id": "7c53bbee",
   "metadata": {},
   "outputs": [],
   "source": [
    "def get_matlab_ts():\n",
    "    \"\"\"\n",
    "    Get the MATLAB timestamp as a list of strings.\n",
    "    \"\"\"\n",
    "    ts_str = eng.eval(\"cellstr(datestr(ts, 'yyyy-mm-ddTHH:MM:SS'))\", nargout=1)\n",
    "    python_datetimes = [datetime.fromisoformat(s) for s in ts_str]\n",
    "    return python_datetimes"
   ]
  },
  {
   "cell_type": "code",
   "execution_count": null,
   "id": "9b640d8f",
   "metadata": {},
   "outputs": [],
   "source": [
    "get_matlab_ts()"
   ]
  },
  {
   "cell_type": "code",
   "execution_count": null,
   "id": "96ea7768",
   "metadata": {},
   "outputs": [],
   "source": [
    "timelength = eng.eval(\"length(ts)\", nargout=1)"
   ]
  },
  {
   "cell_type": "code",
   "execution_count": null,
   "id": "21259932",
   "metadata": {},
   "outputs": [],
   "source": [
    "timelength"
   ]
  },
  {
   "cell_type": "code",
   "execution_count": null,
   "id": "d0fca4db",
   "metadata": {},
   "outputs": [],
   "source": [
    "SINR = np.array(eng.workspace['SINR'])"
   ]
  },
  {
   "cell_type": "code",
   "execution_count": null,
   "id": "583baf59",
   "metadata": {},
   "outputs": [],
   "source": [
    "SINR.shape"
   ]
  },
  {
   "cell_type": "code",
   "execution_count": null,
   "id": "0453e422",
   "metadata": {},
   "outputs": [],
   "source": [
    "SINR[:,0]"
   ]
  },
  {
   "cell_type": "code",
   "execution_count": null,
   "id": "1a19585c",
   "metadata": {},
   "outputs": [],
   "source": [
    "SINR[:,0].shape"
   ]
  },
  {
   "cell_type": "code",
   "execution_count": null,
   "id": "511f71d2",
   "metadata": {},
   "outputs": [],
   "source": [
    "# Access the variable from MATLAB workspace\n",
    "channel_list_leo = eng.workspace['ChannelListLeo']\n",
    "\n",
    "import numpy as np\n",
    "\n",
    "# Convert MATLAB array to NumPy array\n",
    "channel_list_leo_np = np.array(channel_list_leo)\n"
   ]
  },
  {
   "cell_type": "code",
   "execution_count": null,
   "id": "2e781871",
   "metadata": {},
   "outputs": [],
   "source": [
    "channel_list_leo_np[0, 0, :]"
   ]
  },
  {
   "cell_type": "code",
   "execution_count": null,
   "id": "8c471b89",
   "metadata": {},
   "outputs": [],
   "source": [
    "Serv_idxLEO = np.array(eng.workspace['Serv_idxLEO'])"
   ]
  },
  {
   "cell_type": "code",
   "execution_count": null,
   "id": "a40a0876",
   "metadata": {},
   "outputs": [],
   "source": [
    "Serv_idxLEO[0:,0].shape"
   ]
  },
  {
   "cell_type": "code",
   "execution_count": null,
   "id": "fb905892",
   "metadata": {},
   "outputs": [],
   "source": [
    "Serv_idxLEO[0,0]"
   ]
  },
  {
   "cell_type": "code",
   "execution_count": null,
   "id": "13a62d0d",
   "metadata": {},
   "outputs": [],
   "source": [
    "np.array(eng.workspace['FreqAlloc']).shape"
   ]
  },
  {
   "cell_type": "code",
   "execution_count": null,
   "id": "a63c37d2",
   "metadata": {},
   "outputs": [],
   "source": []
  },
  {
   "cell_type": "code",
   "execution_count": null,
   "id": "f60b8f2c",
   "metadata": {},
   "outputs": [],
   "source": [
    "np.array(eng.workspace['FreqAlloc'])[0,0]"
   ]
  },
  {
   "cell_type": "code",
   "execution_count": null,
   "id": "f9fc24b8",
   "metadata": {},
   "outputs": [],
   "source": [
    "Serv_idxLEO[0,0]"
   ]
  },
  {
   "cell_type": "code",
   "execution_count": null,
   "id": "ac40d55c",
   "metadata": {},
   "outputs": [],
   "source": [
    "int(Serv_idxLEO[0,0])"
   ]
  },
  {
   "cell_type": "code",
   "execution_count": null,
   "id": "85fd6440",
   "metadata": {},
   "outputs": [],
   "source": [
    "np.array(eng.workspace['ChannelListLeo'])[0,583,0]"
   ]
  },
  {
   "cell_type": "code",
   "execution_count": null,
   "id": "ffa97eea",
   "metadata": {},
   "outputs": [],
   "source": [
    "channel_list_leo_np[0, int(Serv_idxLEO[0,0]), 0] = 2\n",
    "eng.workspace['ChannelListLeo'] = matlab.double(channel_list_leo_np)"
   ]
  },
  {
   "cell_type": "code",
   "execution_count": null,
   "id": "df155903",
   "metadata": {},
   "outputs": [],
   "source": [
    "np.array(eng.workspace['ChannelListLeo'])[0, :, 0]"
   ]
  },
  {
   "cell_type": "code",
   "execution_count": null,
   "id": "240b0bda",
   "metadata": {},
   "outputs": [],
   "source": [
    "eng.eval(\"stepScenario\", nargout=0)"
   ]
  },
  {
   "cell_type": "code",
   "execution_count": null,
   "id": "553a608e",
   "metadata": {},
   "outputs": [],
   "source": [
    "channel_list_leo_np[0, 0, :]"
   ]
  },
  {
   "cell_type": "code",
   "execution_count": null,
   "id": "0a332efe",
   "metadata": {},
   "outputs": [],
   "source": [
    "channel_list_leo_np.shape"
   ]
  },
  {
   "cell_type": "code",
   "execution_count": null,
   "id": "c4d63fe8",
   "metadata": {},
   "outputs": [],
   "source": []
  },
  {
   "cell_type": "code",
   "execution_count": null,
   "id": "27543563",
   "metadata": {},
   "outputs": [],
   "source": [
    "channel_list_leo_np[0, 0, 0] = 0 "
   ]
  },
  {
   "cell_type": "code",
   "execution_count": null,
   "id": "57ba57ab",
   "metadata": {},
   "outputs": [],
   "source": [
    "channel_list_leo_np[0, 0, :]"
   ]
  },
  {
   "cell_type": "code",
   "execution_count": null,
   "id": "fc017b13",
   "metadata": {},
   "outputs": [],
   "source": [
    "channel_list_leo_np[0, 0, :]"
   ]
  },
  {
   "cell_type": "code",
   "execution_count": null,
   "id": "413e3c32",
   "metadata": {},
   "outputs": [],
   "source": [
    "np.array(eng.workspace['SINR'])"
   ]
  },
  {
   "cell_type": "code",
   "execution_count": null,
   "id": "e72b0923",
   "metadata": {},
   "outputs": [],
   "source": [
    "np.array(eng.workspace['SINR']).shape"
   ]
  },
  {
   "cell_type": "code",
   "execution_count": null,
   "id": "cf68ddd1",
   "metadata": {},
   "outputs": [],
   "source": []
  },
  {
   "cell_type": "code",
   "execution_count": null,
   "id": "ff0edebb",
   "metadata": {},
   "outputs": [],
   "source": [
    "eng.workspace['ChannelListLeo'] = matlab.double(channel_list_leo_np)"
   ]
  },
  {
   "cell_type": "code",
   "execution_count": null,
   "id": "39cad803",
   "metadata": {},
   "outputs": [],
   "source": [
    "# Access the variable from MATLAB workspace\n",
    "channel_list_leo = eng.workspace['ChannelListLeo']\n",
    "\n",
    "import numpy as np\n",
    "\n",
    "# Convert MATLAB array to NumPy array\n",
    "channel_list_leo_np = np.array(channel_list_leo)\n"
   ]
  },
  {
   "cell_type": "code",
   "execution_count": null,
   "id": "b823ac9d",
   "metadata": {},
   "outputs": [],
   "source": [
    "channel_list_leo_np"
   ]
  },
  {
   "cell_type": "code",
   "execution_count": null,
   "id": "d186f1e4",
   "metadata": {},
   "outputs": [],
   "source": [
    "eng.eval(\"resetScenario\", nargout=0)"
   ]
  },
  {
   "cell_type": "code",
   "execution_count": null,
   "id": "26abd4bc",
   "metadata": {},
   "outputs": [],
   "source": [
    "leoNum = int(eng.workspace['leoNum'])\n",
    "geoNum = int(eng.workspace['geoNum'])\n",
    "cities = eng.workspace['cities_py']\n",
    "\n",
    "nuser = len(cities)"
   ]
  },
  {
   "cell_type": "code",
   "execution_count": null,
   "id": "9821a7c8",
   "metadata": {},
   "outputs": [],
   "source": [
    "nuser"
   ]
  },
  {
   "cell_type": "code",
   "execution_count": null,
   "id": "216f97d4",
   "metadata": {},
   "outputs": [],
   "source": [
    "channelFreqs = eng.workspace['channelFreqs']"
   ]
  },
  {
   "cell_type": "code",
   "execution_count": null,
   "id": "0e5db40c",
   "metadata": {},
   "outputs": [],
   "source": [
    "currentLEOFreqs = eng.workspace['currentLEOFreqs']"
   ]
  },
  {
   "cell_type": "code",
   "execution_count": null,
   "id": "21e0baea",
   "metadata": {},
   "outputs": [],
   "source": [
    "currentLEOFreqs[0][0]"
   ]
  },
  {
   "cell_type": "code",
   "execution_count": null,
   "id": "513a9948",
   "metadata": {},
   "outputs": [],
   "source": [
    "eng.workspace['currentLEOFreqs'][0][0] = 0.0"
   ]
  },
  {
   "cell_type": "code",
   "execution_count": null,
   "id": "aa095c6d",
   "metadata": {},
   "outputs": [],
   "source": [
    "eng.workspace['currentLEOFreqs']"
   ]
  },
  {
   "cell_type": "code",
   "execution_count": null,
   "id": "aad5ce9d",
   "metadata": {},
   "outputs": [],
   "source": [
    "#Retrieve the current value\n",
    "currentLEOFreqs = eng.workspace['currentLEOFreqs']"
   ]
  },
  {
   "cell_type": "code",
   "execution_count": null,
   "id": "e74f2967",
   "metadata": {},
   "outputs": [],
   "source": [
    "np.array(currentLEOFreqs).flatten().tolist()"
   ]
  },
  {
   "cell_type": "code",
   "execution_count": null,
   "id": "e3b6260e",
   "metadata": {},
   "outputs": [],
   "source": [
    "currentLEOFreqs = np.array(currentLEOFreqs).flatten()"
   ]
  },
  {
   "cell_type": "code",
   "execution_count": null,
   "id": "99ec0e59",
   "metadata": {},
   "outputs": [],
   "source": [
    "currentLEOFreqs.tolist()"
   ]
  },
  {
   "cell_type": "code",
   "execution_count": null,
   "id": "fa8dcf3c",
   "metadata": {},
   "outputs": [],
   "source": [
    "\n",
    "\n",
    "# #Modify the values (example change)\n",
    "# new_values = [1502126000.0, 1501376000.0, 1498876000.0]\n",
    "\n",
    "# new_values = np.array(currentLEOFreqs).flatten().tolist()\n",
    "\n",
    "# #Update the workspace variable\n",
    "# eng.workspace['currentLEOFreqs'] = matlab.double(new_values)"
   ]
  },
  {
   "cell_type": "code",
   "execution_count": null,
   "id": "df8d13b6",
   "metadata": {},
   "outputs": [],
   "source": [
    "eng.workspace['currentLEOFreqs']"
   ]
  },
  {
   "cell_type": "code",
   "execution_count": null,
   "id": "96e60810",
   "metadata": {},
   "outputs": [],
   "source": [
    "channelFreqs[0][0]"
   ]
  },
  {
   "cell_type": "code",
   "execution_count": null,
   "id": "d347d181",
   "metadata": {},
   "outputs": [],
   "source": [
    "type(currentLEOFreqs) == type(float(0))"
   ]
  },
  {
   "cell_type": "code",
   "execution_count": null,
   "id": "4646a6ce",
   "metadata": {},
   "outputs": [],
   "source": [
    "len(list(channelFreqs[0]))"
   ]
  },
  {
   "cell_type": "code",
   "execution_count": null,
   "id": "dc964838",
   "metadata": {},
   "outputs": [],
   "source": [
    "channelFreqs"
   ]
  },
  {
   "cell_type": "code",
   "execution_count": null,
   "id": "e50d9828",
   "metadata": {},
   "outputs": [],
   "source": [
    "channelFreqs[0]"
   ]
  },
  {
   "cell_type": "code",
   "execution_count": null,
   "id": "214dae44",
   "metadata": {},
   "outputs": [],
   "source": [
    "print(\"Leo Satelitte ID\",eng.workspace['leoIndex'])\n",
    "print(\"Time Index\",eng.workspace['tIdx'])"
   ]
  },
  {
   "cell_type": "code",
   "execution_count": null,
   "id": "402659c9",
   "metadata": {},
   "outputs": [],
   "source": [
    "eng.eval(\"stepScenario\", nargout=0)\n",
    "done = eng.workspace['done']\n",
    "state = eng.workspace['snd_state']\n",
    "reward = eng.workspace['reward']\n",
    "print(state)\n",
    "print(reward)\n",
    "print(f\"Step, done: {done}\")\n",
    "print(\"Leo Satelitte ID\",eng.workspace['leoIndex'])\n",
    "print(\"Time Index\",eng.workspace['tIdx'])"
   ]
  },
  {
   "cell_type": "code",
   "execution_count": null,
   "id": "dab777b4",
   "metadata": {},
   "outputs": [],
   "source": [
    "print(\"Leo Satelitte ID\",eng.workspace['leoIndex'])\n",
    "print(\"Time Index\",eng.workspace['tIdx'])"
   ]
  },
  {
   "cell_type": "code",
   "execution_count": null,
   "id": "10dfdbcf",
   "metadata": {},
   "outputs": [],
   "source": [
    "for i in range(20):\n",
    "    eng.eval(\"stepScenario\", nargout=0)\n",
    "    done = eng.workspace['done']\n",
    "    state = eng.workspace['snd_state']\n",
    "    reward = eng.workspace['reward']\n",
    "    print(state)\n",
    "    print(reward)\n",
    "    print(f\"Step {i+1}, done: {done}\")\n",
    "    print(\"Leo Satelitte ID\",eng.workspace['leoIndex'])\n",
    "    print(\"Time Index\",eng.workspace['tIdx'])\n",
    "    if done:\n",
    "        break\n",
    "\n",
    "# eng.eval(\"SaveData\", nargout=0)\n",
    "\n",
    "\n",
    "print(reward)"
   ]
  },
  {
   "cell_type": "code",
   "execution_count": null,
   "id": "056252a8",
   "metadata": {},
   "outputs": [],
   "source": [
    "print(\"Saving MATLAB Data.\")\n",
    "eng.eval(\"SaveData\", nargout=0)"
   ]
  },
  {
   "cell_type": "code",
   "execution_count": null,
   "id": "5b854112",
   "metadata": {},
   "outputs": [],
   "source": [
    "eng.workspace['logData']"
   ]
  },
  {
   "cell_type": "code",
   "execution_count": null,
   "id": "bd9567b6",
   "metadata": {},
   "outputs": [],
   "source": [
    "eng.workspace['reward_data_geo_gs']"
   ]
  },
  {
   "cell_type": "code",
   "execution_count": null,
   "id": "fec74676",
   "metadata": {},
   "outputs": [],
   "source": [
    "eng.workspace['reward_data_leo_gs']"
   ]
  },
  {
   "cell_type": "code",
   "execution_count": null,
   "id": "fd0e2b92",
   "metadata": {},
   "outputs": [],
   "source": [
    "eng.workspace['reward_data_leo']"
   ]
  },
  {
   "cell_type": "code",
   "execution_count": null,
   "id": "38f456a6",
   "metadata": {},
   "outputs": [],
   "source": [
    "print(state)"
   ]
  },
  {
   "cell_type": "code",
   "execution_count": null,
   "id": "800dcfac",
   "metadata": {},
   "outputs": [],
   "source": [
    "state['LEO_1']['AccessStatus']['Melbourne']"
   ]
  },
  {
   "cell_type": "code",
   "execution_count": null,
   "id": "2d4ac69e",
   "metadata": {},
   "outputs": [],
   "source": [
    "reward = eng.workspace['reward']"
   ]
  },
  {
   "cell_type": "code",
   "execution_count": null,
   "id": "87b2d78f",
   "metadata": {},
   "outputs": [],
   "source": [
    "reward"
   ]
  },
  {
   "cell_type": "code",
   "execution_count": null,
   "id": "f3427cc5",
   "metadata": {},
   "outputs": [],
   "source": [
    "reward[\"LEO_1\"]['reward']['Melbourne']['snr']"
   ]
  },
  {
   "cell_type": "code",
   "execution_count": null,
   "id": "3fa50340",
   "metadata": {},
   "outputs": [],
   "source": [
    "reward[\"LEO_1\"]['reward']"
   ]
  },
  {
   "cell_type": "code",
   "execution_count": null,
   "id": "cdc698fe",
   "metadata": {},
   "outputs": [],
   "source": [
    "np.array(reward[\"LEO_1\"]['reward']['Melbourne']['snr'])"
   ]
  },
  {
   "cell_type": "code",
   "execution_count": null,
   "id": "98900b15",
   "metadata": {},
   "outputs": [],
   "source": [
    "eng.eval(\"reward.('LEO_1').('reward').('Melbourne').('snr')\")"
   ]
  },
  {
   "cell_type": "code",
   "execution_count": null,
   "id": "73f345b5",
   "metadata": {},
   "outputs": [],
   "source": [
    "snr_value = eng.eval(\"reward.('LEO_1').('reward').('Melbourne').('snr')\")\n"
   ]
  },
  {
   "cell_type": "code",
   "execution_count": null,
   "id": "2edd2367",
   "metadata": {},
   "outputs": [],
   "source": [
    "print(type(snr_value))  # Should be something like <class 'matlab.double'>\n",
    "print(snr_value)\n"
   ]
  },
  {
   "cell_type": "code",
   "execution_count": null,
   "id": "5fee4ff5",
   "metadata": {},
   "outputs": [],
   "source": [
    "print(state)\n",
    "print(reward)"
   ]
  },
  {
   "cell_type": "code",
   "execution_count": null,
   "id": "7248a9aa",
   "metadata": {},
   "outputs": [],
   "source": [
    "import numpy as np\n",
    "\n",
    "if isinstance(snr_value, list):  # likely [[value]]\n",
    "    snr_array = np.array(snr_value)\n",
    "    snr_scalar = snr_array.item()\n",
    "else:\n",
    "    snr_scalar = float(snr_value)\n",
    "\n",
    "print(\"Correct SNR:\", snr_scalar)\n"
   ]
  },
  {
   "cell_type": "code",
   "execution_count": null,
   "id": "8700f13b",
   "metadata": {},
   "outputs": [],
   "source": [
    "# In MATLAB via Python, convert SNR to string\n",
    "eng.eval(\"temp_snr_str = num2str(reward.('LEO_1').('reward').('Melbourne').('snr'));\", nargout=0)\n",
    "\n",
    "# Pull the string into Python\n",
    "snr_str = eng.workspace[\"temp_snr_str\"]\n",
    "snr_value = float(snr_str)\n",
    "\n",
    "print(\"SNR (via string conversion):\", snr_value)\n"
   ]
  },
  {
   "cell_type": "code",
   "execution_count": null,
   "id": "511402f6",
   "metadata": {},
   "outputs": [],
   "source": [
    "eng.eval(\"temp_snr = reward.('LEO_1').('reward').('Melbourne').('snr');\", nargout=0)\n",
    "raw_value = eng.workspace[\"temp_snr\"]\n",
    "\n",
    "print(\"Type:\", type(raw_value))\n",
    "print(\"Raw value:\", raw_value)\n"
   ]
  },
  {
   "cell_type": "code",
   "execution_count": null,
   "id": "8fce99fb",
   "metadata": {},
   "outputs": [],
   "source": [
    "import gymnasium as gym"
   ]
  },
  {
   "cell_type": "code",
   "execution_count": null,
   "id": "fa0ed69c",
   "metadata": {},
   "outputs": [],
   "source": [
    "state"
   ]
  },
  {
   "cell_type": "code",
   "execution_count": null,
   "id": "a0340046",
   "metadata": {},
   "outputs": [],
   "source": [
    "from gymnasium.spaces import MultiDiscrete, Dict, Box"
   ]
  },
  {
   "cell_type": "code",
   "execution_count": null,
   "id": "677026fb",
   "metadata": {},
   "outputs": [],
   "source": [
    "observation_space = Dict({\n",
    "            \"utc_time\": Box(low=-np.inf, high=np.inf, shape=(1,), dtype=np.int64),\n",
    "            \"leo_pos\": Box(low=-np.inf, high=np.inf, shape=(leoNum *2,), dtype=np.float64),\n",
    "            \"geo_freq\": Box(low=-np.inf, high=np.inf, shape=(geoNum,), dtype=np.float64),\n",
    "            \"leo_freq\": Box(low=-np.inf, high=np.inf, shape=(leoNum,), dtype=np.float64),\n",
    "            \"leo_access\": Box(low=0, high=1, shape=(leoNum* nuser,), dtype=np.float64),\n",
    "        })"
   ]
  },
  {
   "cell_type": "code",
   "execution_count": null,
   "id": "3634378a",
   "metadata": {},
   "outputs": [],
   "source": [
    "def convert_matlab_state_to_py_state(cur_state_from_matlab=None):\n",
    "    # Log cur_state_from_matlab\n",
    "    logging.info(\"=== Current State ===\")\n",
    "    logging.info(json.dumps(cur_state_from_matlab, indent=2))\n",
    "    \"\"\"Reset the environment and initialize the buffer.\"\"\"\n",
    "    global cur_obs\n",
    "    global step_count\n",
    "    step_count = 0\n",
    "    from datetime import datetime, timezone\n",
    "\n",
    "    # 1. utc_time (convert string to UNIX timestamp in seconds)\n",
    "    dt = datetime.strptime(cur_state_from_matlab[\"time\"], \"%d-%b-%Y %H:%M:%S\")\n",
    "    utc_timestamp = int(dt.timestamp())\n",
    "    cur_obs[\"utc_time\"] = np.array([utc_timestamp], dtype=np.int64)\n",
    "\n",
    "    # 2. leo_pos (interleaved lat/lon)\n",
    "    leo_pos = []\n",
    "    for i in range(1, leoNum + 1):\n",
    "        leo = cur_state_from_matlab[f\"LEO_{i}\"]\n",
    "        leo_pos.extend([leo[\"Latitude\"], leo[\"Longitude\"]])\n",
    "    cur_obs[\"leo_pos\"] = np.array(leo_pos, dtype=np.float64)\n",
    "\n",
    "    # 3. geo_freq\n",
    "    cur_obs[\"geo_freq\"] = np.array([cur_state_from_matlab[\"GeobaseFreq\"]], dtype=np.float64)\n",
    "\n",
    "    # 4. leo_freq (not in cur_state_from_matlab — fill with zeros or placeholder)\n",
    "    cur_obs[\"leo_freq\"] = np.zeros(leoNum, dtype=np.float64)\n",
    "\n",
    "    # 5. leo_access (flattened [LEO1_Melb, LEO1_Syd, LEO2_Melb, ..., LEO3_Syd])\n",
    "    leo_access = []\n",
    "    for i in range(1, leoNum + 1):\n",
    "        access = cur_state_from_matlab[f\"LEO_{i}\"][\"AccessStatus\"]\n",
    "        leo_access.extend([\n",
    "            float(access[\"Melbourne\"]),\n",
    "            float(access[\"Sydney\"])\n",
    "        ])\n",
    "    cur_obs[\"leo_access\"] = np.array(leo_access, dtype=np.float64)\n",
    "\n",
    "    # (Optional) Validate against observation_space\n",
    "    assert observation_space.contains(cur_obs), \"cur_obs doesn't match the observation space!\"\n",
    "\n",
    "    return cur_obs"
   ]
  },
  {
   "cell_type": "code",
   "execution_count": null,
   "id": "0988baa9",
   "metadata": {},
   "outputs": [],
   "source": [
    "cur_obs = None"
   ]
  },
  {
   "cell_type": "code",
   "execution_count": null,
   "id": "04fe2ba3",
   "metadata": {},
   "outputs": [],
   "source": [
    "intial_obs = {\n",
    "    \"utc_time\": np.array([0], dtype=np.int64),\n",
    "    \"leo_pos\": np.random.randn(leoNum * 2).astype(np.float64),  # e.g., [x1, y1, x2, y2, x3, y3]\n",
    "    \"geo_freq\": np.random.uniform(10.5, 12.0, size=(geoNum,)).astype(np.float64),\n",
    "    \"leo_freq\": np.random.uniform(20.0, 22.0, size=(leoNum,)).astype(np.float64),\n",
    "    \"leo_access\": np.random.randint(0, 2, size=(leoNum * nuser,)).astype(np.float64),\n",
    "} "
   ]
  },
  {
   "cell_type": "code",
   "execution_count": null,
   "id": "e03524ad",
   "metadata": {},
   "outputs": [],
   "source": [
    "cur_obs = intial_obs.copy() if cur_obs is None else intial_obs.copy()"
   ]
  },
  {
   "cell_type": "code",
   "execution_count": null,
   "id": "df781d55",
   "metadata": {},
   "outputs": [],
   "source": [
    "convert_matlab_state_to_py_state(state)"
   ]
  },
  {
   "cell_type": "code",
   "execution_count": null,
   "id": "95b73d94",
   "metadata": {},
   "outputs": [],
   "source": [
    "eng.workspace['done']"
   ]
  },
  {
   "cell_type": "code",
   "execution_count": null,
   "id": "a04074b0",
   "metadata": {},
   "outputs": [],
   "source": [
    "eng.workspace['reward']"
   ]
  },
  {
   "cell_type": "code",
   "execution_count": null,
   "id": "86f268b7",
   "metadata": {},
   "outputs": [],
   "source": []
  },
  {
   "cell_type": "code",
   "execution_count": null,
   "id": "accbebf8",
   "metadata": {},
   "outputs": [],
   "source": [
    "channelFreqs = eng.workspace['channelFreqs']"
   ]
  },
  {
   "cell_type": "code",
   "execution_count": null,
   "id": "5b5ff048",
   "metadata": {},
   "outputs": [],
   "source": [
    "channelFreqs[0]"
   ]
  }
 ],
 "metadata": {
  "kernelspec": {
   "display_name": "cogsat",
   "language": "python",
   "name": "python3"
  },
  "language_info": {
   "codemirror_mode": {
    "name": "ipython",
    "version": 3
   },
   "file_extension": ".py",
   "mimetype": "text/x-python",
   "name": "python",
   "nbconvert_exporter": "python",
   "pygments_lexer": "ipython3",
   "version": "3.12.9"
  }
 },
 "nbformat": 4,
 "nbformat_minor": 5
}
