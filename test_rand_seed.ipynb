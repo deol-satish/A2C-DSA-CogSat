{
 "cells": [
  {
   "cell_type": "code",
   "execution_count": 2,
   "id": "81fa8bf1",
   "metadata": {},
   "outputs": [],
   "source": [
    "import numpy as np"
   ]
  },
  {
   "cell_type": "code",
   "execution_count": 6,
   "id": "1fd1d401",
   "metadata": {},
   "outputs": [],
   "source": [
    "Thrpt = np.array([100,300,500,600,700])/100"
   ]
  },
  {
   "cell_type": "code",
   "execution_count": 7,
   "id": "c580062a",
   "metadata": {},
   "outputs": [
    {
     "data": {
      "text/plain": [
       "array([1., 3., 5., 6., 7.])"
      ]
     },
     "execution_count": 7,
     "metadata": {},
     "output_type": "execute_result"
    }
   ],
   "source": [
    "Thrpt"
   ]
  },
  {
   "cell_type": "code",
   "execution_count": null,
   "id": "8721f094",
   "metadata": {},
   "outputs": [],
   "source": [
    "import random\n",
    "\n",
    "# Set seed for reproducibility\n",
    "random.seed(42)\n",
    "\n",
    "# Generate 10 random values from 0 to 14\n",
    "random_values = [random.randint(0, 14) for _ in range(10)]\n",
    "print(random_values)\n"
   ]
  }
 ],
 "metadata": {
  "kernelspec": {
   "display_name": "cogsat",
   "language": "python",
   "name": "python3"
  },
  "language_info": {
   "codemirror_mode": {
    "name": "ipython",
    "version": 3
   },
   "file_extension": ".py",
   "mimetype": "text/x-python",
   "name": "python",
   "nbconvert_exporter": "python",
   "pygments_lexer": "ipython3",
   "version": "3.12.9"
  }
 },
 "nbformat": 4,
 "nbformat_minor": 5
}
